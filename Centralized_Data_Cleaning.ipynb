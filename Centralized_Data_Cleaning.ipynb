{
 "cells": [
  {
   "cell_type": "code",
   "execution_count": null,
   "id": "da4fb74e",
   "metadata": {},
   "outputs": [],
   "source": [
    "from pyspark.sql import SparkSession\n",
    "\n",
    "# Initialize Spark session\n",
    "spark = SparkSession.builder \\\n",
    "    .appName(\"DataCleaningPipeline\") \\\n",
    "    .getOrCreate()\n",
    "\n",
    "# GCS bucket and folder paths\n",
    "bucket_name = \"on-prem-ingestion-data\"  \n",
    "folder_path = f\"gs://{bucket_name}/2022_data_ingestion/\"  # Adjust folder name based on your specific folder\n"
   ]
  },
  {
   "cell_type": "code",
   "execution_count": null,
   "id": "f3c68e89",
   "metadata": {},
   "outputs": [],
   "source": [
    "# Load a single chunk for initial testing\n",
    "chunk_file = folder_path + \"data_page_1_20241019_155049.csv\"  # Replace with actual chunk name if different\n",
    "df = spark.read.csv(chunk_file, header=True, inferSchema=True)\n",
    "\n",
    "# Display the schema and sample data\n",
    "df.show(5)\n"
   ]
  },
  {
   "cell_type": "code",
   "execution_count": null,
   "id": "d98ba829",
   "metadata": {},
   "outputs": [],
   "source": [
    "from pyspark.sql.functions import regexp_replace, col, expr\n",
    "\n",
    "# Step 1: Identify columns that have underscores at the start or end and clean the names\n",
    "# We ensure that each column exists in the DataFrame\n",
    "for col_name in df.columns:\n",
    "    if col_name.startswith('_') or col_name.endswith('_'):\n",
    "        # Strip leading and trailing underscores\n",
    "        new_col_name = col_name.strip('_')\n",
    "        # Only rename if the new name is different and doesn't already exist in the DataFrame\n",
    "        if new_col_name != col_name and new_col_name not in df.columns:\n",
    "            df = df.withColumnRenamed(col_name, new_col_name)\n",
    "\n",
    "# Step 2: Use regexp_replace to clean byte strings in specified columns (IMONTH, IYEAR, IDAY, IDATE)\n",
    "# Remove the 'b' prefix and surrounding quotes\n",
    "df = df.withColumn(\"IMONTH\", regexp_replace(col(\"IMONTH\"), r\"^b'|'$\", \"\"))\n",
    "df = df.withColumn(\"IYEAR\", regexp_replace(col(\"IYEAR\"), r\"^b'|'$\", \"\"))\n",
    "df = df.withColumn(\"IDAY\", regexp_replace(col(\"IDAY\"), r\"^b'|'$\", \"\"))\n",
    "df = df.withColumn(\"IDATE\", regexp_replace(col(\"IDATE\"), r\"^b'|'$\", \"\"))\n",
    "\n",
    "# Step 3: Convert the cleaned columns to integers (if necessary)\n",
    "df = df.withColumn(\"IMONTH\", col(\"IMONTH\").cast(\"int\"))\n",
    "df = df.withColumn(\"IYEAR\", col(\"IYEAR\").cast(\"int\"))\n",
    "df = df.withColumn(\"IDAY\", col(\"IDAY\").cast(\"int\"))\n",
    "df = df.withColumn(\"IDATE\", col(\"IDATE\").cast(\"int\"))\n",
    "df = df.withColumn(\"SEQNO\", col(\"SEQNO\").cast(\"int\"))\n",
    "\n",
    "# Display the cleaned DataFrame to verify changes\n",
    "df.select(\"IMONTH\", \"IYEAR\", \"IDAY\", \"IDATE\").show()\n"
   ]
  },
  {
   "cell_type": "code",
   "execution_count": null,
   "id": "98c374d2",
   "metadata": {},
   "outputs": [],
   "source": [
    "from pyspark.sql import functions as F\n",
    "\n",
    "# Create a dictionary to map old column names to new column names\n",
    "rename_dict = {col_name: col_name.strip('_') for col_name in df.columns if col_name.startswith('_') or col_name.endswith('_')}\n",
    "\n",
    "# Apply the renaming in one go using `selectExpr` with aliasing\n",
    "df = df.select([F.col(col_name).alias(new_col_name) if col_name in rename_dict else F.col(col_name) for col_name, new_col_name in rename_dict.items()])\n",
    "\n",
    "# Show the updated DataFrame\n",
    "df.show(5)\n"
   ]
  },
  {
   "cell_type": "code",
   "execution_count": null,
   "id": "2cd2631e",
   "metadata": {},
   "outputs": [],
   "source": [
    "df"
   ]
  }
 ],
 "metadata": {
  "kernelspec": {
   "display_name": "Python 3 (ipykernel)",
   "language": "python",
   "name": "python3"
  },
  "language_info": {
   "codemirror_mode": {
    "name": "ipython",
    "version": 3
   },
   "file_extension": ".py",
   "mimetype": "text/x-python",
   "name": "python",
   "nbconvert_exporter": "python",
   "pygments_lexer": "ipython3",
   "version": "3.11.7"
  }
 },
 "nbformat": 4,
 "nbformat_minor": 5
}
