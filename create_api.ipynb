{
 "cells": [
  {
   "cell_type": "code",
   "execution_count": 1,
   "id": "880ac026",
   "metadata": {},
   "outputs": [
    {
     "name": "stdout",
     "output_type": "stream",
     "text": [
      "        _STATE  FMONTH        IDATE IMONTH   IDAY    IYEAR  DISPCODE  \\\n",
      "0          1.0     1.0  b'02032022'  b'02'  b'03'  b'2022'    1100.0   \n",
      "1          1.0     1.0  b'02042022'  b'02'  b'04'  b'2022'    1100.0   \n",
      "2          1.0     1.0  b'02022022'  b'02'  b'02'  b'2022'    1100.0   \n",
      "3          1.0     1.0  b'02032022'  b'02'  b'03'  b'2022'    1100.0   \n",
      "4          1.0     1.0  b'02022022'  b'02'  b'02'  b'2022'    1100.0   \n",
      "...        ...     ...          ...    ...    ...      ...       ...   \n",
      "445127    78.0    11.0  b'12192022'  b'12'  b'19'  b'2022'    1100.0   \n",
      "445128    78.0    11.0  b'12212022'  b'12'  b'21'  b'2022'    1100.0   \n",
      "445129    78.0    11.0  b'11292022'  b'11'  b'29'  b'2022'    1100.0   \n",
      "445130    78.0    11.0  b'12082022'  b'12'  b'08'  b'2022'    1100.0   \n",
      "445131    78.0    11.0  b'12142022'  b'12'  b'14'  b'2022'    1100.0   \n",
      "\n",
      "                SEQNO          _PSU  CTELENM1  ...  _SMOKGRP  _LCSREC  \\\n",
      "0       b'2022000001'  2.022000e+09       1.0  ...       4.0      NaN   \n",
      "1       b'2022000002'  2.022000e+09       1.0  ...       4.0      NaN   \n",
      "2       b'2022000003'  2.022000e+09       1.0  ...       4.0      NaN   \n",
      "3       b'2022000004'  2.022000e+09       1.0  ...       3.0      2.0   \n",
      "4       b'2022000005'  2.022000e+09       1.0  ...       4.0      NaN   \n",
      "...               ...           ...       ...  ...       ...      ...   \n",
      "445127  b'2022001527'  2.022002e+09       NaN  ...       4.0      NaN   \n",
      "445128  b'2022001528'  2.022002e+09       NaN  ...       4.0      NaN   \n",
      "445129  b'2022001529'  2.022002e+09       NaN  ...       1.0      NaN   \n",
      "445130  b'2022001530'  2.022002e+09       NaN  ...       4.0      NaN   \n",
      "445131  b'2022001531'  2.022002e+09       NaN  ...       3.0      NaN   \n",
      "\n",
      "        DRNKANY6      DROCDY4_  _RFBING6      _DRNKWK2  _RFDRHV8  _FLSHOT7  \\\n",
      "0            2.0  5.397605e-79       1.0  5.397605e-79       1.0       1.0   \n",
      "1            2.0  5.397605e-79       1.0  5.397605e-79       1.0       2.0   \n",
      "2            2.0  5.397605e-79       1.0  5.397605e-79       1.0       NaN   \n",
      "3            2.0  5.397605e-79       1.0  5.397605e-79       1.0       9.0   \n",
      "4            1.0  1.000000e+01       1.0  1.400000e+02       1.0       NaN   \n",
      "...          ...           ...       ...           ...       ...       ...   \n",
      "445127       7.0  9.000000e+02       9.0  9.990000e+04       9.0       NaN   \n",
      "445128       2.0  5.397605e-79       1.0  5.397605e-79       1.0       NaN   \n",
      "445129       7.0  9.000000e+02       9.0  9.990000e+04       9.0       2.0   \n",
      "445130       2.0  5.397605e-79       1.0  5.397605e-79       1.0       1.0   \n",
      "445131       1.0  5.000000e+01       2.0  9.990000e+04       9.0       NaN   \n",
      "\n",
      "        _PNEUMO3  _AIDTST4  \n",
      "0            2.0       2.0  \n",
      "1            2.0       2.0  \n",
      "2            NaN       2.0  \n",
      "3            9.0       2.0  \n",
      "4            NaN       2.0  \n",
      "...          ...       ...  \n",
      "445127       NaN       1.0  \n",
      "445128       NaN       1.0  \n",
      "445129       2.0       2.0  \n",
      "445130       1.0       1.0  \n",
      "445131       NaN       2.0  \n",
      "\n",
      "[445132 rows x 328 columns]\n"
     ]
    }
   ],
   "source": [
    "import pandas as pd\n",
    "\n",
    "# Replace with the path to your XPT file\n",
    "file_path = 'LLCP2022.XPT '\n",
    "\n",
    "# Read the XPT file\n",
    "df = pd.read_sas(file_path, format='xport')\n",
    "\n",
    "# Display the DataFrame\n",
    "print(df)\n"
   ]
  },
  {
   "cell_type": "code",
   "execution_count": 2,
   "id": "98ed7b7a",
   "metadata": {},
   "outputs": [
    {
     "name": "stdout",
     "output_type": "stream",
     "text": [
      "<class 'pandas.core.frame.DataFrame'>\n",
      "RangeIndex: 445132 entries, 0 to 445131\n",
      "Columns: 328 entries, _STATE to _AIDTST4\n",
      "dtypes: float64(323), object(5)\n",
      "memory usage: 1.1+ GB\n"
     ]
    }
   ],
   "source": [
    "df.info()"
   ]
  },
  {
   "cell_type": "code",
   "execution_count": 7,
   "id": "5b81e437",
   "metadata": {},
   "outputs": [
    {
     "name": "stdout",
     "output_type": "stream",
     "text": [
      " * Serving Flask app '__main__'\n",
      " * Debug mode: off\n"
     ]
    },
    {
     "name": "stderr",
     "output_type": "stream",
     "text": [
      "WARNING: This is a development server. Do not use it in a production deployment. Use a production WSGI server instead.\n",
      " * Running on http://127.0.0.1:5001\n",
      "Press CTRL+C to quit\n"
     ]
    }
   ],
   "source": [
    "from flask import Flask, jsonify, request\n",
    "import pandas as pd\n",
    "\n",
    "app = Flask(__name__)\n",
    "\n",
    "# Assuming you've already loaded the BRFSS 2022 data into a Pandas DataFrame\n",
    "data_2022 = df  # Replace 'your_dataframe' with your actual DataFrame variable\n",
    "\n",
    "# API endpoint to get survey records with pagination\n",
    "@app.route('/api/brfss/2022', methods=['GET'])\n",
    "def get_brfss_data():\n",
    "    # Get the page number and the number of records per page from the request (default: page 1, 1000 records per page)\n",
    "    page = int(request.args.get('page', 1))  # Default is page 1\n",
    "    per_page = int(request.args.get('per_page', 1000))  # Default is 1000 records per page\n",
    "\n",
    "    # Calculate the start and end indices for the current page\n",
    "    start = (page - 1) * per_page\n",
    "    end = start + per_page\n",
    "\n",
    "    # Slice the DataFrame to get the requested page\n",
    "    paginated_data = data_2022.iloc[start:end]\n",
    "\n",
    "    # Convert paginated data to JSON\n",
    "    result = paginated_data.to_dict(orient='records')\n",
    "    return jsonify(result)\n",
    "\n",
    "if __name__ == '__main__':\n",
    "    app.run(port=5001)\n"
   ]
  },
  {
   "cell_type": "code",
   "execution_count": null,
   "id": "9df06290",
   "metadata": {},
   "outputs": [],
   "source": []
  }
 ],
 "metadata": {
  "kernelspec": {
   "display_name": "Python 3 (ipykernel)",
   "language": "python",
   "name": "python3"
  },
  "language_info": {
   "codemirror_mode": {
    "name": "ipython",
    "version": 3
   },
   "file_extension": ".py",
   "mimetype": "text/x-python",
   "name": "python",
   "nbconvert_exporter": "python",
   "pygments_lexer": "ipython3",
   "version": "3.11.7"
  }
 },
 "nbformat": 4,
 "nbformat_minor": 5
}
