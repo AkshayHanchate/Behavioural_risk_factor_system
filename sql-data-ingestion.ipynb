{
 "cells": [
  {
   "cell_type": "code",
   "execution_count": 4,
   "id": "ecdb858c",
   "metadata": {
    "scrolled": false
   },
   "outputs": [
    {
     "name": "stdout",
     "output_type": "stream",
     "text": [
      "Table 'Alcohol' created successfully with columns: ['AVEDRNK3', 'DRNK3GE5', 'MAXDRNKS']\n",
      "Table 'Cancer_test' created successfully with columns: ['HADHYST2', 'CNCRDIFF', 'CNCRAGE', 'CSRVTRT3', 'CSRVDOC1', 'CSRVSUM', 'CSRVRTRN', 'CSRVINST', 'CSRVINSR', 'CSRVDEIN', 'CSRVCLIN', 'CSRVPAIN', 'CSRVCTL2', 'PSATEST1']\n",
      "Table 'Caregiver' created successfully with columns: ['CAREGIV1', 'CRGVREL4', 'CRGVLNG1', 'CRGVHRS1', 'CRGVPRB3', 'CRGVALZD', 'CRGVPER1', 'CRGVHOU1', 'CRGVEXPT']\n",
      "Table 'childhood_exp' created successfully with columns: ['ACEDEPRS', 'ACEDRINK', 'ACEDRUGS', 'ACEPRISN', 'ACEDIVRC', 'ACEPUNCH', 'ACEHURT1', 'ACESWEAR', 'ACETOUCH', 'ACETTHEM', 'ACEHVSEX']\n",
      "Table 'Children_details' created successfully with columns: ['RCSRLTN2', 'CASTHDX2', 'CASTHNO2', 'BIRTHSEX']\n",
      "Table 'Cognitive_Decline' created successfully with columns: ['CIMEMLOS', 'CDHOUSE', 'CDASSIST', 'CDHELP', 'CDSOCIAL', 'CDDISCUS']\n",
      "Table 'Common_Variables ' created successfully with columns: ['_STATE', 'FMONTH', 'IDATE', 'IMONTH', 'IDAY', 'IYEAR', 'DISPCODE', 'SEQNO', '_PSU']\n",
      "Table 'heart_diesease' created successfully with columns: ['CVDINFR4', 'CVDCRHD4', 'CVDSTRK3', 'ASTHMA3', 'ASTHNOW']\n",
      "No matching columns found in the CSV for table 'COVID'.\n",
      "Table 'DERIVED_VARIABLES' created successfully with columns: ['_RFHLTH', '_PHYS14D', '_MENT14D', '_TOTINDA', '_EXTETH3', '_ALTETH3', '_DENVST3', '_MICHD', '_LTASTH1', '_CASTHM1', '_ASTHMS1', '_DRDXAR2', '_HISPANC', '_SEX', '_AGEG5YR', '_AGE65YR', '_AGE80', '_AGE_G', 'HTIN4', 'HTM4', 'WTKG3', '_BMI5', '_BMI5CAT', '_RFBMI5', '_CHLDCNT', '_EDUCAG', '_RFMAM22', '_MAM5023', '_SMOKER3', '_RFSMOK3', '_FLSHOT7', '_PNEUMO3', '_AIDTST4']\n",
      "Table 'DIABETES' created successfully with columns: ['INSULIN1', 'CHKHEMO3', 'EYEEXAM1']\n",
      "Table 'Disability' created successfully with columns: ['DEAF', 'BLIND', 'DECIDE', 'DIFFWALK', 'DIFFDRES', 'DIFFALON', 'HADMAM', 'HOWLONG']\n",
      "Table 'Extra' created successfully with columns: ['QSTVER', 'QSTLANG', '_METSTAT', '_URBSTAT', 'MSCODE', '_STSTR', '_STRWT', '_RAWRAKE', '_WT2RAKE', '_IMPRACE', '_CHISPNC', '_CLLCPWT', '_DUALUSE', '_DUALCOR', '_LLCPWT2', '_LLCPWT']\n",
      "No matching columns found in the CSV for table 'Family_Planning'.\n",
      "No matching columns found in the CSV for table 'Firearms '.\n",
      "Table 'Health_Care_details' created successfully with columns: ['CHECKUP1']\n",
      "Table 'Health_Details' created successfully with columns: ['PREGNANT', 'WEIGHT2', 'HEIGHT3', 'GENHLTH', 'PHYSHLTH', 'MENTHLTH', 'POORHLTH', 'EXERANY2', 'SLEPTIM1', 'ADDEPEV3', 'CHCKDNY2', 'HAVARTH4', 'DIABETE4']\n",
      "Table 'HIV' created successfully with columns: ['HIVTST7', 'HIVTSTD3', 'HIVRISK5']\n",
      "Table 'Identified_As' created successfully with columns: ['SOMALE', 'SOFEMALE', 'TRNSGNDR']\n",
      "Table 'ME_CFS' created successfully with columns: ['TOLDCFS', 'HAVECFS', 'WORKCFS']\n",
      "Table 'Oral_Care' created successfully with columns: ['LASTDEN4', 'RMVTETH4']\n",
      "Table 'Personal_Information' created successfully with columns: ['CTELENM1', 'PVTRESD1', 'COLGHOUS', 'STATERE1', 'LADULT1', 'NUMADULT', 'NUMMEN', 'NUMWOMEN', 'RESPSLCT', 'SAFETIME', 'CTELNUM1', 'CELLFON5', 'CADULT1', 'PVTRESD3', 'CCLGHOUS', 'CSTATE1', 'LANDLINE', 'HHADULT', 'SEXVAR', 'MARITAL', 'EDUCA', 'RENTHOM1', 'VETERAN3', 'EMPLOY1', 'CHILDREN']\n",
      "No matching columns found in the CSV for table 'Reaction_to_race'.\n",
      "Table 'Smoke_Tobacco' created successfully with columns: ['SMOKE100', 'SMOKDAY2', 'USENOW3', 'LCSFIRST', 'LCSLAST', 'LCSNUMCG', 'LASTSMK2', 'STOPSMK2']\n",
      "No matching columns found in the CSV for table 'Social_life_and_health_equity'.\n",
      "Table 'Marijuana_or_not ' created successfully with columns: ['MARIJAN1']\n",
      "Table 'Vaccination ' created successfully with columns: ['HPVADVC4', 'HPVADSHT', 'SHINGLE2', 'FLUSHOT7', 'FLSHTMY3', 'PNEUVAC4', 'TETANUS1']\n",
      "All data successfully loaded into corresponding tables in SQLite.\n"
     ]
    }
   ],
   "source": [
    "import pandas as pd\n",
    "import sqlite3\n",
    "\n",
    "# Paths to your CSV and Excel files\n",
    "csv_file_path = '2020.csv'  \n",
    "excel_file_path = 'Data_Mapping.xlsx'\n",
    "\n",
    "# Load CSV data into a Pandas DataFrame\n",
    "data_2020 = pd.read_csv(csv_file_path)\n",
    "\n",
    "# Load Excel file containing the mapping (Entity -> Tables, Attribute -> Columns)\n",
    "mapping_df = pd.read_excel(excel_file_path)\n",
    "\n",
    "# Open SQLite connection\n",
    "conn = sqlite3.connect('behavioral_risk_2020.db')\n",
    "\n",
    "# Iterate over unique entities (table names) from the Excel file\n",
    "for entity in mapping_df['Entity'].unique():\n",
    "    # Get the columns (attributes) related to this entity (table)\n",
    "    entity_columns = mapping_df[mapping_df['Entity'] == entity]['Attribute'].tolist()\n",
    "    \n",
    "    # Filter the entity columns that are available in the CSV data\n",
    "    available_columns = [col for col in entity_columns if col in data_2020.columns]\n",
    "    \n",
    "    if available_columns:  # Proceed only if there are available columns\n",
    "        # Subset the CSV data to include only these columns\n",
    "        entity_data = data_2020[available_columns]\n",
    "        \n",
    "        # Store the subset data into a table in SQLite with the name of the entity\n",
    "        entity_data.to_sql(entity, conn, if_exists='replace', index=False)\n",
    "        print(f\"Table '{entity}' created successfully with columns: {available_columns}\")\n",
    "    else:\n",
    "        print(f\"No matching columns found in the CSV for table '{entity}'.\")\n",
    "\n",
    "# Close the SQLite connection\n",
    "conn.close()\n",
    "\n",
    "print(\"All data successfully loaded into corresponding tables in SQLite.\")\n"
   ]
  },
  {
   "cell_type": "code",
   "execution_count": null,
   "id": "8920d19d",
   "metadata": {},
   "outputs": [],
   "source": []
  }
 ],
 "metadata": {
  "kernelspec": {
   "display_name": "Python 3 (ipykernel)",
   "language": "python",
   "name": "python3"
  },
  "language_info": {
   "codemirror_mode": {
    "name": "ipython",
    "version": 3
   },
   "file_extension": ".py",
   "mimetype": "text/x-python",
   "name": "python",
   "nbconvert_exporter": "python",
   "pygments_lexer": "ipython3",
   "version": "3.11.7"
  }
 },
 "nbformat": 4,
 "nbformat_minor": 5
}
